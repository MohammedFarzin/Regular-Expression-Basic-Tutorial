{
 "cells": [
  {
   "cell_type": "code",
   "execution_count": 3,
   "id": "4745e76c",
   "metadata": {},
   "outputs": [],
   "source": [
    "import re"
   ]
  },
  {
   "cell_type": "code",
   "execution_count": 16,
   "id": "84db91c5",
   "metadata": {},
   "outputs": [],
   "source": [
    "chat1 = 'codebasics: you ask lot of questions 😠  1235678912, abc@xyz.com, 1428953627'\n",
    "chat2 = 'codebasics: here it is: (123)-567-8912, abc@xyz.com, 4522148456'\n",
    "chat3 = 'codebasics: yes, phone: 1235678912 email: abc@xyz.com'"
   ]
  },
  {
   "cell_type": "code",
   "execution_count": 17,
   "id": "34222d50",
   "metadata": {},
   "outputs": [
    {
     "data": {
      "text/plain": [
       "['1235678912', '1428953627']"
      ]
     },
     "execution_count": 17,
     "metadata": {},
     "output_type": "execute_result"
    }
   ],
   "source": [
    "pattern = '\\d{10}'\n",
    "\n",
    "matches = re.findall(pattern, chat1 )\n",
    "matches"
   ]
  },
  {
   "cell_type": "code",
   "execution_count": 19,
   "id": "4bde2289",
   "metadata": {},
   "outputs": [
    {
     "data": {
      "text/plain": [
       "['(123)-567-8912']"
      ]
     },
     "execution_count": 19,
     "metadata": {},
     "output_type": "execute_result"
    }
   ],
   "source": [
    "pattern = '\\(\\d{3}\\)-\\d{3}-\\d{4}'\n",
    "\n",
    "matches = re.findall(pattern, chat2)\n",
    "matches"
   ]
  },
  {
   "cell_type": "code",
   "execution_count": 20,
   "id": "5025f7c4",
   "metadata": {},
   "outputs": [
    {
     "data": {
      "text/plain": [
       "['1235678912', '1428953627']"
      ]
     },
     "execution_count": 20,
     "metadata": {},
     "output_type": "execute_result"
    }
   ],
   "source": [
    "#If we want to implement two regular expression\n",
    "pattern = '\\d{10}|\\(\\d{3}\\)-\\d{3}-\\d{4}'\n",
    "\n",
    "matches = re.findall(pattern, chat1 )\n",
    "matches"
   ]
  },
  {
   "cell_type": "code",
   "execution_count": 21,
   "id": "dd930c9d",
   "metadata": {},
   "outputs": [
    {
     "data": {
      "text/plain": [
       "['abc@xyz.com']"
      ]
     },
     "execution_count": 21,
     "metadata": {},
     "output_type": "execute_result"
    }
   ],
   "source": [
    "#regular expression for email id\n",
    "\n",
    "pattern = '[a-z0-9A-Z_]*@[a-z0-9A-Z_]*\\.[a-z]*'\n",
    "\n",
    "matches = re.findall(pattern, chat1 )\n",
    "matches"
   ]
  },
  {
   "cell_type": "code",
   "execution_count": 25,
   "id": "206791d7",
   "metadata": {},
   "outputs": [
    {
     "data": {
      "text/plain": [
       "['5428793612']"
      ]
     },
     "execution_count": 25,
     "metadata": {},
     "output_type": "execute_result"
    }
   ],
   "source": [
    "#Regular expression for taking numbers after a particular word or text\n",
    "\n",
    "chat1 = \"codebasics: Hello, Iam having an issue with my order # 412285999\"\n",
    "chat2 = \"Hello order number 451236985 in this order number there is some major problems\"\n",
    "chat3 = \"my order 5428793612 product has been cancelled\"\n",
    "\n",
    "\n",
    "pattern = 'order[^\\d]*(\\d*)'\n",
    "\n",
    "matches = re.findall(pattern, chat3 )\n",
    "matches\n",
    "\n"
   ]
  },
  {
   "cell_type": "code",
   "execution_count": 26,
   "id": "c53d19f9",
   "metadata": {},
   "outputs": [],
   "source": [
    "text='''\n",
    "Born\tElon Reeve Musk\n",
    "June 28, 1971 (age 50)\n",
    "Pretoria, Transvaal, South Africa\n",
    "Citizenship\t\n",
    "South Africa (1971–present)\n",
    "Canada (1971–present)\n",
    "United States (2002–present)\n",
    "Education\tUniversity of Pennsylvania (BS, BA)\n",
    "Title\t\n",
    "Founder, CEO and Chief Engineer of SpaceX\n",
    "CEO and product architect of Tesla, Inc.\n",
    "Founder of The Boring Company and X.com (now part of PayPal)\n",
    "Co-founder of Neuralink, OpenAI, and Zip2\n",
    "Spouse(s)\t\n",
    "Justine Wilson\n",
    "​\n",
    "​(m. 2000; div. 2008)​\n",
    "Talulah Riley\n",
    "​\n",
    "​(m. 2010; div. 2012)​\n",
    "​\n",
    "​(m. 2013; div. 2016)\n",
    "'''"
   ]
  },
  {
   "cell_type": "code",
   "execution_count": 27,
   "id": "0cc05225",
   "metadata": {},
   "outputs": [
    {
     "data": {
      "text/plain": [
       "['50']"
      ]
     },
     "execution_count": 27,
     "metadata": {},
     "output_type": "execute_result"
    }
   ],
   "source": [
    "#Regular expression for taking age from a article\n",
    "\n",
    "pattern = 'age (\\d+)'\n",
    "\n",
    "matches = re.findall(pattern, text )\n",
    "matches"
   ]
  },
  {
   "cell_type": "code",
   "execution_count": null,
   "id": "a42a2b88",
   "metadata": {},
   "outputs": [],
   "source": []
  }
 ],
 "metadata": {
  "kernelspec": {
   "display_name": "Python 3 (ipykernel)",
   "language": "python",
   "name": "python3"
  },
  "language_info": {
   "codemirror_mode": {
    "name": "ipython",
    "version": 3
   },
   "file_extension": ".py",
   "mimetype": "text/x-python",
   "name": "python",
   "nbconvert_exporter": "python",
   "pygments_lexer": "ipython3",
   "version": "3.9.15"
  }
 },
 "nbformat": 4,
 "nbformat_minor": 5
}
